{
 "cells": [
  {
   "cell_type": "code",
   "execution_count": 24,
   "metadata": {},
   "outputs": [],
   "source": [
    "import numpy as np\n",
    "from sklearn.neural_network import MLPClassifier\n",
    "import pandas as pd\n",
    "from sklearn import preprocessing\n",
    "import matplotlib.pyplot as plt\n",
    "from sklearn import metrics\n",
    "from sklearn.tree import DecisionTreeClassifier \n",
    "from sklearn.model_selection import train_test_split\n"
   ]
  },
  {
   "cell_type": "code",
   "execution_count": 19,
   "metadata": {},
   "outputs": [
    {
     "name": "stdout",
     "output_type": "stream",
     "text": [
      "     Region  Fresh   Milk  Grocery  Frozen  Detergents_Paper  Delicassen\n",
      "0         3  12669   9656     7561     214              2674        1338\n",
      "1         3   7057   9810     9568    1762              3293        1776\n",
      "2         3   6353   8808     7684    2405              3516        7844\n",
      "3         3  13265   1196     4221    6404               507        1788\n",
      "4         3  22615   5410     7198    3915              1777        5185\n",
      "..      ...    ...    ...      ...     ...               ...         ...\n",
      "435       3  29703  12051    16027   13135               182        2204\n",
      "436       3  39228   1431      764    4510                93        2346\n",
      "437       3  14531  15488    30243     437             14841        1867\n",
      "438       3  10290   1981     2232    1038               168        2125\n",
      "439       3   2787   1698     2510      65               477          52\n",
      "\n",
      "[440 rows x 7 columns]\n",
      "     Channel\n",
      "0          2\n",
      "1          2\n",
      "2          2\n",
      "3          1\n",
      "4          2\n",
      "..       ...\n",
      "435        1\n",
      "436        1\n",
      "437        2\n",
      "438        1\n",
      "439        1\n",
      "\n",
      "[440 rows x 1 columns]\n"
     ]
    }
   ],
   "source": [
    "df = pd.read_csv('Wholesale_customers_data.csv')\n",
    "\n",
    "X = df.iloc[:,1:] # Features\n",
    "y = df.iloc[:,:-7] # Target variable\n",
    "print(X)\n",
    "print(y)"
   ]
  },
  {
   "cell_type": "code",
   "execution_count": 16,
   "metadata": {},
   "outputs": [],
   "source": [
    "normalized_X = preprocessing.normalize(X)"
   ]
  },
  {
   "cell_type": "code",
   "execution_count": 17,
   "metadata": {},
   "outputs": [],
   "source": [
    "X_train, X_test, y_train, y_test = train_test_split(X, y, test_size=0.2)"
   ]
  },
  {
   "cell_type": "code",
   "execution_count": 23,
   "metadata": {},
   "outputs": [
    {
     "name": "stdout",
     "output_type": "stream",
     "text": [
      "Accuracy: 0.8863636363636364\n"
     ]
    }
   ],
   "source": [
    "# Using Decision Trees\n",
    "clf = DecisionTreeClassifier() \n",
    "clf = clf.fit(X_train,y_train)  \n",
    "y_pred = clf.predict(X_test)\n",
    "print(\"Accuracy:\",metrics.accuracy_score(y_test, y_pred))"
   ]
  },
  {
   "cell_type": "code",
   "execution_count": 43,
   "metadata": {},
   "outputs": [],
   "source": [
    "from keras.models import Sequential\n",
    "from keras.layers import Dense\n",
    "from keras.utils import to_categorical\n",
    "import warnings\n",
    "warnings.filterwarnings(\"ignore\")"
   ]
  },
  {
   "cell_type": "code",
   "execution_count": 58,
   "metadata": {},
   "outputs": [],
   "source": [
    "model = Sequential()\n",
    "model.add(Dense(13, input_dim=7, activation='sigmoid'))\n",
    "model.add(Dense(7, activation='sigmoid'))\n",
    "model.add(Dense(3, activation='sigmoid'))\n",
    "model.compile(loss='binary_crossentropy', optimizer='adam', metrics=['accuracy'])"
   ]
  },
  {
   "cell_type": "code",
   "execution_count": 59,
   "metadata": {
    "scrolled": true
   },
   "outputs": [
    {
     "name": "stdout",
     "output_type": "stream",
     "text": [
      "Train on 235 samples, validate on 117 samples\n",
      "Epoch 1/150\n",
      "235/235 [==============================] - 1s 3ms/step - loss: 0.6344 - accuracy: 0.5404 - val_loss: 0.6147 - val_accuracy: 0.5698\n",
      "Epoch 2/150\n",
      "235/235 [==============================] - 0s 543us/step - loss: 0.5970 - accuracy: 0.5362 - val_loss: 0.5813 - val_accuracy: 0.6211\n",
      "Epoch 3/150\n",
      "235/235 [==============================] - 0s 700us/step - loss: 0.5670 - accuracy: 0.6270 - val_loss: 0.5541 - val_accuracy: 0.6895\n",
      "Epoch 4/150\n",
      "235/235 [==============================] - 0s 666us/step - loss: 0.5426 - accuracy: 0.7064 - val_loss: 0.5320 - val_accuracy: 0.7464\n",
      "Epoch 5/150\n",
      "235/235 [==============================] - 0s 603us/step - loss: 0.5229 - accuracy: 0.7688 - val_loss: 0.5140 - val_accuracy: 0.7778\n",
      "Epoch 6/150\n",
      "235/235 [==============================] - 0s 478us/step - loss: 0.5072 - accuracy: 0.7816 - val_loss: 0.4990 - val_accuracy: 0.7835\n",
      "Epoch 7/150\n",
      "235/235 [==============================] - 0s 465us/step - loss: 0.4938 - accuracy: 0.7816 - val_loss: 0.4874 - val_accuracy: 0.7835\n",
      "Epoch 8/150\n",
      "235/235 [==============================] - 0s 461us/step - loss: 0.4836 - accuracy: 0.7816 - val_loss: 0.4776 - val_accuracy: 0.7835\n",
      "Epoch 9/150\n",
      "235/235 [==============================] - 0s 455us/step - loss: 0.4749 - accuracy: 0.7816 - val_loss: 0.4696 - val_accuracy: 0.7835\n",
      "Epoch 10/150\n",
      "235/235 [==============================] - 0s 497us/step - loss: 0.4678 - accuracy: 0.7816 - val_loss: 0.4631 - val_accuracy: 0.7835\n",
      "Epoch 11/150\n",
      "235/235 [==============================] - 0s 559us/step - loss: 0.4619 - accuracy: 0.7816 - val_loss: 0.4578 - val_accuracy: 0.7835\n",
      "Epoch 12/150\n",
      "235/235 [==============================] - 0s 674us/step - loss: 0.4571 - accuracy: 0.7816 - val_loss: 0.4531 - val_accuracy: 0.7835\n",
      "Epoch 13/150\n",
      "235/235 [==============================] - 0s 562us/step - loss: 0.4528 - accuracy: 0.7816 - val_loss: 0.4495 - val_accuracy: 0.7835\n",
      "Epoch 14/150\n",
      "235/235 [==============================] - 0s 656us/step - loss: 0.4490 - accuracy: 0.7816 - val_loss: 0.4459 - val_accuracy: 0.7835\n",
      "Epoch 15/150\n",
      "235/235 [==============================] - 0s 620us/step - loss: 0.4460 - accuracy: 0.7816 - val_loss: 0.4426 - val_accuracy: 0.7835\n",
      "Epoch 16/150\n",
      "235/235 [==============================] - 0s 445us/step - loss: 0.4427 - accuracy: 0.7816 - val_loss: 0.4401 - val_accuracy: 0.7835\n",
      "Epoch 17/150\n",
      "235/235 [==============================] - 0s 489us/step - loss: 0.4400 - accuracy: 0.7816 - val_loss: 0.4375 - val_accuracy: 0.7835\n",
      "Epoch 18/150\n",
      "235/235 [==============================] - 0s 472us/step - loss: 0.4378 - accuracy: 0.7816 - val_loss: 0.4351 - val_accuracy: 0.7835\n",
      "Epoch 19/150\n",
      "235/235 [==============================] - 0s 408us/step - loss: 0.4352 - accuracy: 0.7816 - val_loss: 0.4331 - val_accuracy: 0.7835\n",
      "Epoch 20/150\n",
      "235/235 [==============================] - 0s 663us/step - loss: 0.4330 - accuracy: 0.7816 - val_loss: 0.4310 - val_accuracy: 0.7835\n",
      "Epoch 21/150\n",
      "235/235 [==============================] - 0s 504us/step - loss: 0.4307 - accuracy: 0.7816 - val_loss: 0.4291 - val_accuracy: 0.7835\n",
      "Epoch 22/150\n",
      "235/235 [==============================] - 0s 642us/step - loss: 0.4286 - accuracy: 0.7816 - val_loss: 0.4272 - val_accuracy: 0.7835\n",
      "Epoch 23/150\n",
      "235/235 [==============================] - 0s 516us/step - loss: 0.4268 - accuracy: 0.7816 - val_loss: 0.4254 - val_accuracy: 0.7835\n",
      "Epoch 24/150\n",
      "235/235 [==============================] - 0s 695us/step - loss: 0.4249 - accuracy: 0.7816 - val_loss: 0.4238 - val_accuracy: 0.7835\n",
      "Epoch 25/150\n",
      "235/235 [==============================] - 0s 632us/step - loss: 0.4229 - accuracy: 0.7816 - val_loss: 0.4221 - val_accuracy: 0.7835\n",
      "Epoch 26/150\n",
      "235/235 [==============================] - 0s 658us/step - loss: 0.4210 - accuracy: 0.7816 - val_loss: 0.4205 - val_accuracy: 0.7835\n",
      "Epoch 27/150\n",
      "235/235 [==============================] - 0s 717us/step - loss: 0.4194 - accuracy: 0.7816 - val_loss: 0.4189 - val_accuracy: 0.7835\n",
      "Epoch 28/150\n",
      "235/235 [==============================] - 0s 813us/step - loss: 0.4175 - accuracy: 0.7816 - val_loss: 0.4173 - val_accuracy: 0.7835\n",
      "Epoch 29/150\n",
      "235/235 [==============================] - 0s 701us/step - loss: 0.4157 - accuracy: 0.7816 - val_loss: 0.4157 - val_accuracy: 0.7835\n",
      "Epoch 30/150\n",
      "235/235 [==============================] - 0s 745us/step - loss: 0.4139 - accuracy: 0.7816 - val_loss: 0.4142 - val_accuracy: 0.7835\n",
      "Epoch 31/150\n",
      "235/235 [==============================] - 0s 674us/step - loss: 0.4122 - accuracy: 0.7816 - val_loss: 0.4126 - val_accuracy: 0.7835\n",
      "Epoch 32/150\n",
      "235/235 [==============================] - 0s 756us/step - loss: 0.4104 - accuracy: 0.7816 - val_loss: 0.4110 - val_accuracy: 0.7835\n",
      "Epoch 33/150\n",
      "235/235 [==============================] - 0s 755us/step - loss: 0.4087 - accuracy: 0.7816 - val_loss: 0.4095 - val_accuracy: 0.7835\n",
      "Epoch 34/150\n",
      "235/235 [==============================] - 0s 803us/step - loss: 0.4070 - accuracy: 0.7816 - val_loss: 0.4080 - val_accuracy: 0.7835\n",
      "Epoch 35/150\n",
      "235/235 [==============================] - 0s 775us/step - loss: 0.4051 - accuracy: 0.7816 - val_loss: 0.4064 - val_accuracy: 0.7835\n",
      "Epoch 36/150\n",
      "235/235 [==============================] - 0s 821us/step - loss: 0.4035 - accuracy: 0.7816 - val_loss: 0.4048 - val_accuracy: 0.7835\n",
      "Epoch 37/150\n",
      "235/235 [==============================] - 0s 383us/step - loss: 0.4017 - accuracy: 0.7816 - val_loss: 0.4033 - val_accuracy: 0.7835\n",
      "Epoch 38/150\n",
      "235/235 [==============================] - 0s 360us/step - loss: 0.3998 - accuracy: 0.7816 - val_loss: 0.4016 - val_accuracy: 0.7835\n",
      "Epoch 39/150\n",
      "235/235 [==============================] - 0s 524us/step - loss: 0.3980 - accuracy: 0.7816 - val_loss: 0.4002 - val_accuracy: 0.7835\n",
      "Epoch 40/150\n",
      "235/235 [==============================] - 0s 785us/step - loss: 0.3962 - accuracy: 0.7816 - val_loss: 0.3985 - val_accuracy: 0.7835\n",
      "Epoch 41/150\n",
      "235/235 [==============================] - 0s 796us/step - loss: 0.3946 - accuracy: 0.7816 - val_loss: 0.3969 - val_accuracy: 0.7835\n",
      "Epoch 42/150\n",
      "235/235 [==============================] - 0s 764us/step - loss: 0.3927 - accuracy: 0.7816 - val_loss: 0.3955 - val_accuracy: 0.7835\n",
      "Epoch 43/150\n",
      "235/235 [==============================] - 0s 811us/step - loss: 0.3910 - accuracy: 0.7816 - val_loss: 0.3939 - val_accuracy: 0.7835\n",
      "Epoch 44/150\n",
      "235/235 [==============================] - 0s 799us/step - loss: 0.3892 - accuracy: 0.7816 - val_loss: 0.3924 - val_accuracy: 0.7835\n",
      "Epoch 45/150\n",
      "235/235 [==============================] - 0s 354us/step - loss: 0.3873 - accuracy: 0.7816 - val_loss: 0.3908 - val_accuracy: 0.7835\n",
      "Epoch 46/150\n",
      "235/235 [==============================] - 0s 401us/step - loss: 0.3855 - accuracy: 0.7816 - val_loss: 0.3892 - val_accuracy: 0.7835\n",
      "Epoch 47/150\n",
      "235/235 [==============================] - 0s 766us/step - loss: 0.3837 - accuracy: 0.7816 - val_loss: 0.3877 - val_accuracy: 0.7835\n",
      "Epoch 48/150\n",
      "235/235 [==============================] - 0s 795us/step - loss: 0.3820 - accuracy: 0.7816 - val_loss: 0.3862 - val_accuracy: 0.7835\n",
      "Epoch 49/150\n",
      "235/235 [==============================] - 0s 744us/step - loss: 0.3802 - accuracy: 0.7816 - val_loss: 0.3846 - val_accuracy: 0.7835\n",
      "Epoch 50/150\n",
      "235/235 [==============================] - 0s 796us/step - loss: 0.3784 - accuracy: 0.7816 - val_loss: 0.3832 - val_accuracy: 0.7835\n",
      "Epoch 51/150\n",
      "235/235 [==============================] - 0s 801us/step - loss: 0.3767 - accuracy: 0.7816 - val_loss: 0.3816 - val_accuracy: 0.7835\n",
      "Epoch 52/150\n",
      "235/235 [==============================] - 0s 766us/step - loss: 0.3748 - accuracy: 0.7816 - val_loss: 0.3803 - val_accuracy: 0.7835\n",
      "Epoch 53/150\n",
      "235/235 [==============================] - 0s 756us/step - loss: 0.3733 - accuracy: 0.7816 - val_loss: 0.3787 - val_accuracy: 0.7835\n",
      "Epoch 54/150\n",
      "235/235 [==============================] - 0s 763us/step - loss: 0.3717 - accuracy: 0.7816 - val_loss: 0.3773 - val_accuracy: 0.7835\n",
      "Epoch 55/150\n",
      "235/235 [==============================] - 0s 801us/step - loss: 0.3699 - accuracy: 0.7816 - val_loss: 0.3759 - val_accuracy: 0.7835\n",
      "Epoch 56/150\n",
      "235/235 [==============================] - 0s 855us/step - loss: 0.3683 - accuracy: 0.7858 - val_loss: 0.3745 - val_accuracy: 0.7892\n"
     ]
    },
    {
     "name": "stdout",
     "output_type": "stream",
     "text": [
      "Epoch 57/150\n",
      "235/235 [==============================] - 0s 805us/step - loss: 0.3665 - accuracy: 0.7872 - val_loss: 0.3732 - val_accuracy: 0.7892\n",
      "Epoch 58/150\n",
      "235/235 [==============================] - 0s 761us/step - loss: 0.3649 - accuracy: 0.7872 - val_loss: 0.3717 - val_accuracy: 0.7892\n",
      "Epoch 59/150\n",
      "235/235 [==============================] - 0s 747us/step - loss: 0.3634 - accuracy: 0.7872 - val_loss: 0.3703 - val_accuracy: 0.7892\n",
      "Epoch 60/150\n",
      "235/235 [==============================] - 0s 484us/step - loss: 0.3618 - accuracy: 0.7872 - val_loss: 0.3690 - val_accuracy: 0.7892\n",
      "Epoch 61/150\n",
      "235/235 [==============================] - 0s 493us/step - loss: 0.3601 - accuracy: 0.7901 - val_loss: 0.3677 - val_accuracy: 0.8034\n",
      "Epoch 62/150\n",
      "235/235 [==============================] - 0s 461us/step - loss: 0.3586 - accuracy: 0.8000 - val_loss: 0.3664 - val_accuracy: 0.8034\n",
      "Epoch 63/150\n",
      "235/235 [==============================] - 0s 448us/step - loss: 0.3573 - accuracy: 0.8000 - val_loss: 0.3651 - val_accuracy: 0.8034\n",
      "Epoch 64/150\n",
      "235/235 [==============================] - 0s 439us/step - loss: 0.3556 - accuracy: 0.8071 - val_loss: 0.3639 - val_accuracy: 0.8063\n",
      "Epoch 65/150\n",
      "235/235 [==============================] - 0s 785us/step - loss: 0.3543 - accuracy: 0.8156 - val_loss: 0.3628 - val_accuracy: 0.8063\n",
      "Epoch 66/150\n",
      "235/235 [==============================] - 0s 767us/step - loss: 0.3530 - accuracy: 0.8170 - val_loss: 0.3615 - val_accuracy: 0.8063\n",
      "Epoch 67/150\n",
      "235/235 [==============================] - 0s 771us/step - loss: 0.3514 - accuracy: 0.8142 - val_loss: 0.3604 - val_accuracy: 0.8063\n",
      "Epoch 68/150\n",
      "235/235 [==============================] - 0s 787us/step - loss: 0.3500 - accuracy: 0.8142 - val_loss: 0.3592 - val_accuracy: 0.8063\n",
      "Epoch 69/150\n",
      "235/235 [==============================] - 0s 761us/step - loss: 0.3488 - accuracy: 0.8142 - val_loss: 0.3581 - val_accuracy: 0.8120\n",
      "Epoch 70/150\n",
      "235/235 [==============================] - 0s 701us/step - loss: 0.3474 - accuracy: 0.8199 - val_loss: 0.3570 - val_accuracy: 0.8120\n",
      "Epoch 71/150\n",
      "235/235 [==============================] - 0s 851us/step - loss: 0.3464 - accuracy: 0.8255 - val_loss: 0.3560 - val_accuracy: 0.8234\n",
      "Epoch 72/150\n",
      "235/235 [==============================] - 0s 663us/step - loss: 0.3448 - accuracy: 0.8326 - val_loss: 0.3551 - val_accuracy: 0.8234\n",
      "Epoch 73/150\n",
      "235/235 [==============================] - 0s 612us/step - loss: 0.3437 - accuracy: 0.8326 - val_loss: 0.3539 - val_accuracy: 0.8234\n",
      "Epoch 74/150\n",
      "235/235 [==============================] - 0s 786us/step - loss: 0.3425 - accuracy: 0.8326 - val_loss: 0.3529 - val_accuracy: 0.8234\n",
      "Epoch 75/150\n",
      "235/235 [==============================] - 0s 712us/step - loss: 0.3413 - accuracy: 0.8326 - val_loss: 0.3520 - val_accuracy: 0.8234\n",
      "Epoch 76/150\n",
      "235/235 [==============================] - 0s 464us/step - loss: 0.3402 - accuracy: 0.8312 - val_loss: 0.3511 - val_accuracy: 0.8234\n",
      "Epoch 77/150\n",
      "235/235 [==============================] - 0s 451us/step - loss: 0.3390 - accuracy: 0.8340 - val_loss: 0.3501 - val_accuracy: 0.8234\n",
      "Epoch 78/150\n",
      "235/235 [==============================] - 0s 437us/step - loss: 0.3379 - accuracy: 0.8553 - val_loss: 0.3493 - val_accuracy: 0.8234\n",
      "Epoch 79/150\n",
      "235/235 [==============================] - 0s 729us/step - loss: 0.3369 - accuracy: 0.8539 - val_loss: 0.3484 - val_accuracy: 0.8234\n",
      "Epoch 80/150\n",
      "235/235 [==============================] - 0s 430us/step - loss: 0.3357 - accuracy: 0.8525 - val_loss: 0.3474 - val_accuracy: 0.8234\n",
      "Epoch 81/150\n",
      "235/235 [==============================] - 0s 459us/step - loss: 0.3347 - accuracy: 0.8539 - val_loss: 0.3466 - val_accuracy: 0.8234\n",
      "Epoch 82/150\n",
      "235/235 [==============================] - 0s 444us/step - loss: 0.3346 - accuracy: 0.8553 - val_loss: 0.3458 - val_accuracy: 0.8234\n",
      "Epoch 83/150\n",
      "235/235 [==============================] - 0s 564us/step - loss: 0.3329 - accuracy: 0.8525 - val_loss: 0.3450 - val_accuracy: 0.8234\n",
      "Epoch 84/150\n",
      "235/235 [==============================] - 0s 651us/step - loss: 0.3318 - accuracy: 0.8511 - val_loss: 0.3444 - val_accuracy: 0.8234\n",
      "Epoch 85/150\n",
      "235/235 [==============================] - 0s 667us/step - loss: 0.3310 - accuracy: 0.8496 - val_loss: 0.3436 - val_accuracy: 0.8234\n",
      "Epoch 86/150\n",
      "235/235 [==============================] - 0s 677us/step - loss: 0.3304 - accuracy: 0.8553 - val_loss: 0.3428 - val_accuracy: 0.8205\n",
      "Epoch 87/150\n",
      "235/235 [==============================] - 0s 658us/step - loss: 0.3292 - accuracy: 0.8582 - val_loss: 0.3421 - val_accuracy: 0.8205\n",
      "Epoch 88/150\n",
      "235/235 [==============================] - 0s 663us/step - loss: 0.3284 - accuracy: 0.8582 - val_loss: 0.3416 - val_accuracy: 0.8205\n",
      "Epoch 89/150\n",
      "235/235 [==============================] - 0s 667us/step - loss: 0.3280 - accuracy: 0.8582 - val_loss: 0.3408 - val_accuracy: 0.8205\n",
      "Epoch 90/150\n",
      "235/235 [==============================] - 0s 665us/step - loss: 0.3267 - accuracy: 0.8582 - val_loss: 0.3402 - val_accuracy: 0.8205\n",
      "Epoch 91/150\n",
      "235/235 [==============================] - 0s 637us/step - loss: 0.3259 - accuracy: 0.8582 - val_loss: 0.3395 - val_accuracy: 0.8205\n",
      "Epoch 92/150\n",
      "235/235 [==============================] - 0s 667us/step - loss: 0.3255 - accuracy: 0.8582 - val_loss: 0.3388 - val_accuracy: 0.8205\n",
      "Epoch 93/150\n",
      "235/235 [==============================] - 0s 679us/step - loss: 0.3246 - accuracy: 0.8582 - val_loss: 0.3383 - val_accuracy: 0.8205\n",
      "Epoch 94/150\n",
      "235/235 [==============================] - 0s 657us/step - loss: 0.3239 - accuracy: 0.8596 - val_loss: 0.3378 - val_accuracy: 0.8205\n",
      "Epoch 95/150\n",
      "235/235 [==============================] - 0s 643us/step - loss: 0.3229 - accuracy: 0.8596 - val_loss: 0.3371 - val_accuracy: 0.8205\n",
      "Epoch 96/150\n",
      "235/235 [==============================] - 0s 652us/step - loss: 0.3224 - accuracy: 0.8596 - val_loss: 0.3365 - val_accuracy: 0.8205\n",
      "Epoch 97/150\n",
      "235/235 [==============================] - 0s 573us/step - loss: 0.3218 - accuracy: 0.8596 - val_loss: 0.3359 - val_accuracy: 0.8205\n",
      "Epoch 98/150\n",
      "235/235 [==============================] - 0s 696us/step - loss: 0.3210 - accuracy: 0.8596 - val_loss: 0.3354 - val_accuracy: 0.8205\n",
      "Epoch 99/150\n",
      "235/235 [==============================] - 0s 683us/step - loss: 0.3203 - accuracy: 0.8596 - val_loss: 0.3349 - val_accuracy: 0.8205\n",
      "Epoch 100/150\n",
      "235/235 [==============================] - 0s 756us/step - loss: 0.3197 - accuracy: 0.8610 - val_loss: 0.3344 - val_accuracy: 0.8376\n",
      "Epoch 101/150\n",
      "235/235 [==============================] - 0s 722us/step - loss: 0.3191 - accuracy: 0.8638 - val_loss: 0.3339 - val_accuracy: 0.8376\n",
      "Epoch 102/150\n",
      "235/235 [==============================] - 0s 703us/step - loss: 0.3185 - accuracy: 0.8582 - val_loss: 0.3333 - val_accuracy: 0.8205\n",
      "Epoch 103/150\n",
      "235/235 [==============================] - 0s 801us/step - loss: 0.3179 - accuracy: 0.8624 - val_loss: 0.3329 - val_accuracy: 0.8376\n",
      "Epoch 104/150\n",
      "235/235 [==============================] - 0s 804us/step - loss: 0.3174 - accuracy: 0.8638 - val_loss: 0.3324 - val_accuracy: 0.8376\n",
      "Epoch 105/150\n",
      "235/235 [==============================] - 0s 669us/step - loss: 0.3170 - accuracy: 0.8582 - val_loss: 0.3319 - val_accuracy: 0.8205\n",
      "Epoch 106/150\n",
      "235/235 [==============================] - 0s 795us/step - loss: 0.3164 - accuracy: 0.8624 - val_loss: 0.3314 - val_accuracy: 0.8348\n",
      "Epoch 107/150\n",
      "235/235 [==============================] - 0s 751us/step - loss: 0.3164 - accuracy: 0.8652 - val_loss: 0.3313 - val_accuracy: 0.8348\n",
      "Epoch 108/150\n",
      "235/235 [==============================] - 0s 440us/step - loss: 0.3152 - accuracy: 0.8667 - val_loss: 0.3306 - val_accuracy: 0.8348\n",
      "Epoch 109/150\n",
      "235/235 [==============================] - 0s 476us/step - loss: 0.3150 - accuracy: 0.8652 - val_loss: 0.3301 - val_accuracy: 0.8348\n",
      "Epoch 110/150\n",
      "235/235 [==============================] - 0s 461us/step - loss: 0.3143 - accuracy: 0.8667 - val_loss: 0.3298 - val_accuracy: 0.8348\n",
      "Epoch 111/150\n",
      "235/235 [==============================] - 0s 644us/step - loss: 0.3138 - accuracy: 0.8667 - val_loss: 0.3293 - val_accuracy: 0.8348\n",
      "Epoch 112/150\n",
      "235/235 [==============================] - 0s 679us/step - loss: 0.3134 - accuracy: 0.8667 - val_loss: 0.3290 - val_accuracy: 0.8348\n",
      "Epoch 113/150\n"
     ]
    },
    {
     "name": "stdout",
     "output_type": "stream",
     "text": [
      "235/235 [==============================] - 0s 698us/step - loss: 0.3128 - accuracy: 0.8667 - val_loss: 0.3286 - val_accuracy: 0.8348\n",
      "Epoch 114/150\n",
      "235/235 [==============================] - 0s 620us/step - loss: 0.3123 - accuracy: 0.8667 - val_loss: 0.3282 - val_accuracy: 0.8348\n",
      "Epoch 115/150\n",
      "235/235 [==============================] - 0s 622us/step - loss: 0.3119 - accuracy: 0.8667 - val_loss: 0.3278 - val_accuracy: 0.8348\n",
      "Epoch 116/150\n",
      "235/235 [==============================] - 0s 707us/step - loss: 0.3118 - accuracy: 0.8667 - val_loss: 0.3274 - val_accuracy: 0.8348\n",
      "Epoch 117/150\n",
      "235/235 [==============================] - 0s 607us/step - loss: 0.3110 - accuracy: 0.8667 - val_loss: 0.3271 - val_accuracy: 0.8348\n",
      "Epoch 118/150\n",
      "235/235 [==============================] - 0s 605us/step - loss: 0.3106 - accuracy: 0.8667 - val_loss: 0.3268 - val_accuracy: 0.8348\n",
      "Epoch 119/150\n",
      "235/235 [==============================] - 0s 626us/step - loss: 0.3105 - accuracy: 0.8667 - val_loss: 0.3266 - val_accuracy: 0.8348\n",
      "Epoch 120/150\n",
      "235/235 [==============================] - 0s 548us/step - loss: 0.3099 - accuracy: 0.8667 - val_loss: 0.3262 - val_accuracy: 0.8348\n",
      "Epoch 121/150\n",
      "235/235 [==============================] - 0s 554us/step - loss: 0.3094 - accuracy: 0.8667 - val_loss: 0.3259 - val_accuracy: 0.8348\n",
      "Epoch 122/150\n",
      "235/235 [==============================] - 0s 598us/step - loss: 0.3091 - accuracy: 0.8652 - val_loss: 0.3256 - val_accuracy: 0.8519\n",
      "Epoch 123/150\n",
      "235/235 [==============================] - 0s 541us/step - loss: 0.3086 - accuracy: 0.8709 - val_loss: 0.3252 - val_accuracy: 0.8348\n",
      "Epoch 124/150\n",
      "235/235 [==============================] - 0s 557us/step - loss: 0.3083 - accuracy: 0.8667 - val_loss: 0.3249 - val_accuracy: 0.8348\n",
      "Epoch 125/150\n",
      "235/235 [==============================] - 0s 550us/step - loss: 0.3084 - accuracy: 0.8709 - val_loss: 0.3246 - val_accuracy: 0.8519\n",
      "Epoch 126/150\n",
      "235/235 [==============================] - 0s 462us/step - loss: 0.3076 - accuracy: 0.8709 - val_loss: 0.3242 - val_accuracy: 0.8519\n",
      "Epoch 127/150\n",
      "235/235 [==============================] - 0s 481us/step - loss: 0.3076 - accuracy: 0.8709 - val_loss: 0.3242 - val_accuracy: 0.8519\n",
      "Epoch 128/150\n",
      "235/235 [==============================] - 0s 583us/step - loss: 0.3069 - accuracy: 0.8709 - val_loss: 0.3237 - val_accuracy: 0.8519\n",
      "Epoch 129/150\n",
      "235/235 [==============================] - 0s 775us/step - loss: 0.3065 - accuracy: 0.8709 - val_loss: 0.3234 - val_accuracy: 0.8519\n",
      "Epoch 130/150\n",
      "235/235 [==============================] - 0s 829us/step - loss: 0.3062 - accuracy: 0.8709 - val_loss: 0.3231 - val_accuracy: 0.8519\n",
      "Epoch 131/150\n",
      "235/235 [==============================] - 0s 808us/step - loss: 0.3058 - accuracy: 0.8709 - val_loss: 0.3227 - val_accuracy: 0.8519\n",
      "Epoch 132/150\n",
      "235/235 [==============================] - 0s 700us/step - loss: 0.3055 - accuracy: 0.8709 - val_loss: 0.3224 - val_accuracy: 0.8519\n",
      "Epoch 133/150\n",
      "235/235 [==============================] - 0s 652us/step - loss: 0.3052 - accuracy: 0.8709 - val_loss: 0.3221 - val_accuracy: 0.8519\n",
      "Epoch 134/150\n",
      "235/235 [==============================] - 0s 763us/step - loss: 0.3053 - accuracy: 0.8709 - val_loss: 0.3221 - val_accuracy: 0.8519\n",
      "Epoch 135/150\n",
      "235/235 [==============================] - 0s 755us/step - loss: 0.3046 - accuracy: 0.8709 - val_loss: 0.3218 - val_accuracy: 0.8519\n",
      "Epoch 136/150\n",
      "235/235 [==============================] - 0s 816us/step - loss: 0.3048 - accuracy: 0.8709 - val_loss: 0.3214 - val_accuracy: 0.8519\n",
      "Epoch 137/150\n",
      "235/235 [==============================] - 0s 757us/step - loss: 0.3039 - accuracy: 0.8709 - val_loss: 0.3213 - val_accuracy: 0.8519\n",
      "Epoch 138/150\n",
      "235/235 [==============================] - 0s 495us/step - loss: 0.3038 - accuracy: 0.8709 - val_loss: 0.3211 - val_accuracy: 0.8519\n",
      "Epoch 139/150\n",
      "235/235 [==============================] - ETA: 0s - loss: 0.3082 - accuracy: 0.86 - 0s 705us/step - loss: 0.3036 - accuracy: 0.8709 - val_loss: 0.3208 - val_accuracy: 0.8519\n",
      "Epoch 140/150\n",
      "235/235 [==============================] - 0s 655us/step - loss: 0.3031 - accuracy: 0.8709 - val_loss: 0.3206 - val_accuracy: 0.8519\n",
      "Epoch 141/150\n",
      "235/235 [==============================] - 0s 659us/step - loss: 0.3029 - accuracy: 0.8709 - val_loss: 0.3203 - val_accuracy: 0.8519\n",
      "Epoch 142/150\n",
      "235/235 [==============================] - 0s 584us/step - loss: 0.3025 - accuracy: 0.8709 - val_loss: 0.3200 - val_accuracy: 0.8519\n",
      "Epoch 143/150\n",
      "235/235 [==============================] - 0s 737us/step - loss: 0.3024 - accuracy: 0.8709 - val_loss: 0.3199 - val_accuracy: 0.8519\n",
      "Epoch 144/150\n",
      "235/235 [==============================] - 0s 654us/step - loss: 0.3019 - accuracy: 0.8723 - val_loss: 0.3195 - val_accuracy: 0.8519\n",
      "Epoch 145/150\n",
      "235/235 [==============================] - 0s 613us/step - loss: 0.3017 - accuracy: 0.8723 - val_loss: 0.3193 - val_accuracy: 0.8519\n",
      "Epoch 146/150\n",
      "235/235 [==============================] - 0s 607us/step - loss: 0.3014 - accuracy: 0.8723 - val_loss: 0.3190 - val_accuracy: 0.8519\n",
      "Epoch 147/150\n",
      "235/235 [==============================] - 0s 558us/step - loss: 0.3015 - accuracy: 0.8723 - val_loss: 0.3187 - val_accuracy: 0.8519\n",
      "Epoch 148/150\n",
      "235/235 [==============================] - 0s 589us/step - loss: 0.3013 - accuracy: 0.8723 - val_loss: 0.3185 - val_accuracy: 0.8519\n",
      "Epoch 149/150\n",
      "235/235 [==============================] - 0s 584us/step - loss: 0.3007 - accuracy: 0.8723 - val_loss: 0.3185 - val_accuracy: 0.8519\n",
      "Epoch 150/150\n",
      "235/235 [==============================] - 0s 569us/step - loss: 0.3004 - accuracy: 0.8723 - val_loss: 0.3181 - val_accuracy: 0.8519\n"
     ]
    }
   ],
   "source": [
    "y_test_cat=to_categorical(y_test)\n",
    "y_train_cat=to_categorical(y_train)\n",
    "history = model.fit(X_train, y_train_cat,validation_split=0.33, epochs=150, batch_size=10)"
   ]
  },
  {
   "cell_type": "code",
   "execution_count": 60,
   "metadata": {},
   "outputs": [
    {
     "data": {
      "image/png": "[encoded data removed]",
      "text/plain": [
       "<Figure size 432x288 with 1 Axes>"
      ]
     },
     "metadata": {
      "needs_background": "light"
     },
     "output_type": "display_data"
    }
   ],
   "source": [
    "plt.plot(history.history['accuracy'])\n",
    "plt.plot(history.history['val_accuracy'])\n",
    "plt.title('model accuracy')\n",
    "plt.ylabel('accuracy')\n",
    "plt.xlabel('epoch')\n",
    "plt.legend(['train', 'test'], loc='upper left')\n",
    "plt.show()"
   ]
  },
  {
   "cell_type": "code",
   "execution_count": 61,
   "metadata": {},
   "outputs": [
    {
     "data": {
      "image/png": "[encoded data removed]",
      "text/plain": [
       "<Figure size 432x288 with 1 Axes>"
      ]
     },
     "metadata": {
      "needs_background": "light"
     },
     "output_type": "display_data"
    }
   ],
   "source": [
    "# summarize history for loss\n",
    "plt.plot(history.history['loss'])\n",
    "plt.plot(history.history['val_loss'])\n",
    "plt.title('model loss')\n",
    "plt.ylabel('loss')\n",
    "plt.xlabel('epoch')\n",
    "plt.legend(['train', 'test'], loc='upper left')\n",
    "plt.show()"
   ]
  },
  {
   "cell_type": "code",
   "execution_count": 62,
   "metadata": {},
   "outputs": [
    {
     "name": "stdout",
     "output_type": "stream",
     "text": [
      "352/352 [==============================] - 0s 49us/step\n",
      "Accuracy: 86.55\n"
     ]
    }
   ],
   "source": [
    "# Training Accuracy\n",
    "_, accuracy = model.evaluate(X_train, y_train_cat)\n",
    "print('Accuracy: %.2f' % (accuracy*100))"
   ]
  },
  {
   "cell_type": "code",
   "execution_count": 63,
   "metadata": {},
   "outputs": [
    {
     "name": "stdout",
     "output_type": "stream",
     "text": [
      "88/88 [==============================] - 0s 92us/step\n",
      "Accuracy: 93.18\n"
     ]
    }
   ],
   "source": [
    "# Testing Accuracy\n",
    "_, accuracy = model.evaluate(X_test, y_test_cat)\n",
    "print('Accuracy: %.2f' % (accuracy*100))"
   ]
  }
 ],
 "metadata": {
  "kernelspec": {
   "display_name": "Python 3",
   "language": "python",
   "name": "python3"
  },
  "language_info": {
   "codemirror_mode": {
    "name": "ipython",
    "version": 3
   },
   "file_extension": ".py",
   "mimetype": "text/x-python",
   "name": "python",
   "nbconvert_exporter": "python",
   "pygments_lexer": "ipython3",
   "version": "3.6.5"
  }
 },
 "nbformat": 4,
 "nbformat_minor": 2
}
