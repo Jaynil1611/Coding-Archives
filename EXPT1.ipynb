{
 "cells": [
  {
   "cell_type": "code",
   "execution_count": 1,
   "metadata": {},
   "outputs": [],
   "source": [
    "import numpy as np\n",
    "import pandas as pd\n",
    "import matplotlib.pyplot as plt  \n",
    "from sklearn.metrics import classification_report,confusion_matrix\n",
    "from sklearn.model_selection import train_test_split"
   ]
  },
  {
   "cell_type": "code",
   "execution_count": 2,
   "metadata": {},
   "outputs": [
    {
     "name": "stdout",
     "output_type": "stream",
     "text": [
      "   6  148  72  35    0  33.6  0.627  50  1\n",
      "0  1   85  66  29    0  26.6  0.351  31  0\n",
      "1  8  183  64   0    0  23.3  0.672  32  1\n",
      "2  1   89  66  23   94  28.1  0.167  21  0\n",
      "3  0  137  40  35  168  43.1  2.288  33  1\n",
      "4  5  116  74   0    0  25.6  0.201  30  0\n"
     ]
    }
   ],
   "source": [
    "diabetes = pd.read_csv(\"diabetes.csv\")\n",
    "print(diabetes.head())\n",
    "X = diabetes.iloc[:,:-1]\n",
    "Y = diabetes.iloc[:,8]\n",
    "X_train, X_test, y_train, y_test = train_test_split(X, Y, test_size=0.2, random_state=42)\n",
    "train1 = [X_train,y_train]\n",
    "train1 = pd.concat(train1,axis=1)\n",
    "test1 = [X_test,y_test]\n",
    "test1 = pd.concat(test1,axis=1)\n",
    "test1 = test1.values.tolist()\n",
    "train1 = train1.values.tolist()"
   ]
  },
  {
   "cell_type": "code",
   "execution_count": 3,
   "metadata": {},
   "outputs": [
    {
     "name": "stdout",
     "output_type": "stream",
     "text": [
      "Scores: [72.07792207792207]\n",
      "Accuracy: 72.078%\n"
     ]
    }
   ],
   "source": [
    "# Calculate accuracy percentage\n",
    "def accuracy_metric(actual, predicted):\n",
    "    correct = 0\n",
    "    for i in range(len(actual)):\n",
    "        if actual[i] == predicted[i]:\n",
    "            correct += 1\n",
    "    return correct / float(len(actual)) * 100.0\n",
    "\n",
    "# Evaluate an algorithm using a cross validation split\n",
    "def evaluate_algorithm(train_set, test_set, algorithm, n_folds, *args):\n",
    "    scores = list()\n",
    "    predicted = algorithm(train_set, test_set, *args)\n",
    "    actual = [row[-1] for row in test_set]\n",
    "#     for i in range(len(actual)):\n",
    "#         print(\"Expected=%d, Predicted=%d\" % (actual[i], predicted[i]))\n",
    "#     print(confusion_matrix(actual,predicted))\n",
    "#     print(classification_report(actual,predicted))\n",
    "    accuracy = accuracy_metric(actual, predicted)\n",
    "    scores.append(accuracy)\n",
    "    return scores\n",
    "\n",
    "# Make a prediction with weights\n",
    "def predict(row, weights):\n",
    "    activation = weights[0]\n",
    "    for i in range(len(row)-1):\n",
    "        activation +=  weights[i] * row[i]\n",
    "    return 1 if activation > 0 else 0\n",
    "\n",
    "# Estimate Perceptron weights using stochastic gradient descent\n",
    "def train_weights(train, l_rate, n_epoch):\n",
    "    weights = [1 for i in range(len(train[0]))]\n",
    "    for epoch in range(n_epoch):\n",
    "        for row in train:\n",
    "            prediction = predict(row, weights)\n",
    "            error = row[-1] - prediction\n",
    "            weights[0] += l_rate * error\n",
    "            for i in range(len(row)-1):\n",
    "                 weights[i] += l_rate * error * row[i]\n",
    "#         print('>epoch=%d, lrate=%.3f, error=%.3f' % (epoch, l_rate, error))\n",
    "    return weights\n",
    "\n",
    "# Perceptron Algorithm With Stochastic Gradient Descent\n",
    "def perceptron(train, test, l_rate, n_epoch):\n",
    "    predictions = list()\n",
    "#     weights = np.random.rand(8)\n",
    "    weights = train_weights(train, l_rate, n_epoch)\n",
    "#     print(weights)\n",
    "    for row in test:\n",
    "        prediction = predict(row, weights)\n",
    "        predictions.append(prediction)\n",
    "    return(predictions)\n",
    "\n",
    "# evaluate algorithm\n",
    "n_folds = 3\n",
    "l_rate = 0.01\n",
    "n_epoch = 300\n",
    "scores = evaluate_algorithm(train1, test1, perceptron, n_folds, l_rate, n_epoch)\n",
    "print('Scores: %s' % scores)\n",
    "print('Accuracy: %.3f%%' % (scores[0]))"
   ]
  },
  {
   "cell_type": "code",
   "execution_count": 4,
   "metadata": {},
   "outputs": [
    {
     "data": {
      "image/png": "[encoded data removed]",
      "text/plain": [
       "<Figure size 432x288 with 1 Axes>"
      ]
     },
     "metadata": {
      "needs_background": "light"
     },
     "output_type": "display_data"
    }
   ],
   "source": [
    "n_folds = 3\n",
    "l_rate = 0.01\n",
    "n_epoch = 300\n",
    "\n",
    "s = []\n",
    "e = []\n",
    "for i in range(0,601,100):\n",
    "    scores = evaluate_algorithm(train1,test1, perceptron, n_folds, l_rate, i)\n",
    "    s.append(scores)\n",
    "    e.append(i)\n",
    "       \n",
    "plt.plot(e,s,marker='o',linestyle='dashed',color='red',markerfacecolor='blue',markersize=10)\n",
    "plt.title('Epochs vs Accuracy Score')\n",
    "plt.xlabel('Epochs')\n",
    "plt.ylabel('Accuracy Score')\n",
    "plt.show()"
   ]
  }
 ],
 "metadata": {
  "kernelspec": {
   "display_name": "Python 3",
   "language": "python",
   "name": "python3"
  },
  "language_info": {
   "codemirror_mode": {
    "name": "ipython",
    "version": 3
   },
   "file_extension": ".py",
   "mimetype": "text/x-python",
   "name": "python",
   "nbconvert_exporter": "python",
   "pygments_lexer": "ipython3",
   "version": "3.6.5"
  }
 },
 "nbformat": 4,
 "nbformat_minor": 2
}
